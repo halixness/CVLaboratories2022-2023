{
  "cells": [
    {
      "attachments": {},
      "cell_type": "markdown",
      "metadata": {
        "id": "lGYrAcVCV-m7"
      },
      "source": [
        "## Particle Filter\n"
      ]
    },
    {
      "cell_type": "code",
      "execution_count": null,
      "metadata": {
        "id": "SMFxb_kSWWPe"
      },
      "outputs": [],
      "source": [
        "import cv2\n",
        "import numpy as np\n",
        "VFILENAME = \"Video3.mp4\""
      ]
    },
    {
      "attachments": {},
      "cell_type": "markdown",
      "metadata": {
        "id": "uHpr-A5zYzlV"
      },
      "source": [
        "### **Display the Video**"
      ]
    },
    {
      "attachments": {},
      "cell_type": "markdown",
      "metadata": {
        "id": "UagDdAztWphV"
      },
      "source": [
        "Create a function that reads the video. While the video is opened, we read the frames."
      ]
    },
    {
      "cell_type": "code",
      "execution_count": null,
      "metadata": {
        "id": "p6wyhBCLW8NG"
      },
      "outputs": [],
      "source": [
        "def get_frames(filename):\n",
        "    video = cv2.VideoCapture(filename)\n",
        "    while video.isOpened():\n",
        "        ret, frame =video.read()\n",
        "        if ret:\n",
        "            yield frame \n",
        "        else:\n",
        "            break\n",
        "    video.release()        \n",
        "    yield None"
      ]
    },
    {
      "attachments": {},
      "cell_type": "markdown",
      "metadata": {
        "id": "1e4OZX0uXC-l"
      },
      "source": [
        "We create a fuction to display the particle. First of all, we check if there are any particles to display. Then if so, we are going to iterate over them and draw a circle in correspondence of their pixel coordinates. Next, if we get a location for the particle, we try to track it throughout the video and draw a red circle in correspondece of that location."
      ]
    },
    {
      "cell_type": "code",
      "execution_count": null,
      "metadata": {
        "id": "hW4PC7P4Xc7w"
      },
      "outputs": [],
      "source": [
        "def display(frame, particles, location, NUM_PARTICLES):\n",
        "    if len(particles)> 0:\n",
        "        for i in range(NUM_PARTICLES):\n",
        "            x = int(particles[i,0])\n",
        "            y = int(particles[i,1])\n",
        "            cv2.circle(frame,(x,y),1,(0,255,0),1)\n",
        "    if len(location) > 0:\n",
        "        cv2.circle(frame,location,15,(0,0,255),5)\n",
        "    cv2_imshow(frame)\n",
        "    #stop the video if pressing the escape button\n",
        "    if cv2.waitKey(30)==27:\n",
        "        if cv2.waitKey(0)==27:\n",
        "            return True \n",
        "    return False"
      ]
    },
    {
      "attachments": {},
      "cell_type": "markdown",
      "metadata": {
        "id": "_hh3lKxqYkT1"
      },
      "source": [
        "### **Intialize the particles**"
      ]
    },
    {
      "attachments": {},
      "cell_type": "markdown",
      "metadata": {
        "id": "rM7h4g_WZAMt"
      },
      "source": [
        "In order to initialize the particles, we have to estimate the **state of the target**, meaning its **position** and **velocity** within the video. At the beginning of the video, we don’t know that state. All we know is that the position should lie within the frame somewhere, and the velocity could be in any direction but not moving too fast."
      ]
    },
    {
      "cell_type": "code",
      "execution_count": null,
      "metadata": {
        "id": "1kA2WLDzZqJe"
      },
      "outputs": [],
      "source": [
        "NUM_PARTICLES = 5000\n",
        "VEL_RANGE = 0.5\n",
        "frame_height = 720\n",
        "frame_width = 1280"
      ]
    },
    {
      "attachments": {},
      "cell_type": "markdown",
      "metadata": {
        "id": "fNCDsOEGZrKf"
      },
      "source": [
        "We start by initializing the number of total particles and the initial velocity range to be a pixel per frame.\n",
        "\n"
      ]
    },
    {
      "cell_type": "code",
      "execution_count": null,
      "metadata": {
        "id": "WKzAr7uWaBrh"
      },
      "outputs": [],
      "source": [
        "def initialize_particles():\n",
        "    particles = np.random.rand(NUM_PARTICLES,4)\n",
        "    particles = particles * np.array((frame_width,frame_height, VEL_RANGE,VEL_RANGE))\n",
        "    particles[:,2:4] -= VEL_RANGE/2.0\n",
        "    return particles"
      ]
    },
    {
      "attachments": {},
      "cell_type": "markdown",
      "metadata": {
        "id": "uxWAtEfhaV9J"
      },
      "source": [
        "The particles are created as an array filled with random numbers with one row per particle and four columns. The fist two columns are the coordinates of the particles, and the last two colums are their velocity. Since the particles have to lay on the frame, the first two columns have values between zero and the frame dimension. The initial velocity is set to 0.5 and it will be centered to zero so the particles have the possibility to move in both directions. Then we are going to decrement that by half the velocity range. So, we are going to shift the velocities down so that everithing is centered in zero.\n",
        "\n"
      ]
    },
    {
      "attachments": {},
      "cell_type": "markdown",
      "metadata": {
        "id": "TKJ-t1EBb4sF"
      },
      "source": [
        "Let's display the results:\n",
        "\n",
        "\n",
        "*  Define an empty list for the location of the particles\n",
        "*  Initialize the particle\n",
        "*  Display the results\n",
        "\n",
        "\n"
      ]
    },
    {
      "cell_type": "code",
      "execution_count": null,
      "metadata": {
        "colab": {
          "base_uri": "https://localhost:8080/",
          "height": 1000
        },
        "id": "fB7dx0o0cOQ7",
        "outputId": "34e1318d-6407-4ce1-88e3-e2d87a721984"
      },
      "outputs": [],
      "source": [
        "location =[]\n",
        "particles = initialize_particles()\n",
        "\n",
        "\n",
        "for frame in get_frames(VFILENAME):\n",
        "    if frame is None: break\n",
        "    terminate = display(frame, particles, location,NUM_PARTICLES)\n",
        "    if terminate:\n",
        "        break\n",
        "\n",
        "cv2.destroyAllWindows()  "
      ]
    },
    {
      "attachments": {},
      "cell_type": "markdown",
      "metadata": {
        "id": "pfe_t7-edEh9"
      },
      "source": [
        "### **Moving Particles**"
      ]
    },
    {
      "attachments": {},
      "cell_type": "markdown",
      "metadata": {
        "id": "rqnzGy1edMv1"
      },
      "source": [
        "As you can see from the video, the particles are not moving during video playlback even though they have a velocity. We solve this by creating a function **apply_velocity** in which we increment the particle's x and y velocity component."
      ]
    },
    {
      "cell_type": "code",
      "execution_count": null,
      "metadata": {
        "id": "9dM9h6n8dqED"
      },
      "outputs": [],
      "source": [
        "def apply_velocity(particles):\n",
        "    particles[:,0] += particles[:,2]\n",
        "    particles[:,1] += particles[:,3]\n",
        "\n",
        "    return particles"
      ]
    },
    {
      "attachments": {},
      "cell_type": "markdown",
      "metadata": {
        "id": "I4Lg3UdWdzQc"
      },
      "source": [
        "Now, we can see the particles are moving according their velocity"
      ]
    },
    {
      "cell_type": "code",
      "execution_count": null,
      "metadata": {
        "id": "AZdvDEwRd3Xj"
      },
      "outputs": [],
      "source": [
        "location = []\n",
        "particles = initialize_particles()\n",
        "\n",
        "\n",
        "for frame in get_frames(VFILENAME):\n",
        "    if frame is None: break\n",
        "    particles = apply_velocity(particles)\n",
        "\n",
        "    terminate = display(frame, particles, location, NUM_PARTICLES)\n",
        "    if terminate:\n",
        "        break\n",
        "\n",
        "cv2.destroyAllWindows()    "
      ]
    },
    {
      "attachments": {},
      "cell_type": "markdown",
      "metadata": {
        "id": "ZnSe1BKsd-iu"
      },
      "source": [
        "### **Prevent Particles to fall off the edges**"
      ]
    },
    {
      "attachments": {},
      "cell_type": "markdown",
      "metadata": {
        "id": "n_RUGo3WeE7I"
      },
      "source": [
        "We prevent the particles to fall off the edges by putting some limit on the particles location. To do so, we will loop over the particles and set an upper and lower boundaries on both x and y coordinates."
      ]
    },
    {
      "cell_type": "code",
      "execution_count": null,
      "metadata": {
        "id": "oSR0HQ6he8ws"
      },
      "outputs": [],
      "source": [
        "def enforce_edges(particles):\n",
        "    for i in range(NUM_PARTICLES):\n",
        "        particles[i,0] = max(0,min(frame_width-1, particles[i,0]))\n",
        "        particles[i,1] = max(0,min(frame_height-1, particles[i,1]))\n",
        "    return particles"
      ]
    },
    {
      "attachments": {},
      "cell_type": "markdown",
      "metadata": {
        "id": "QZcyx47zfcZT"
      },
      "source": [
        "And the result will be displayed with the following:"
      ]
    },
    {
      "cell_type": "code",
      "execution_count": null,
      "metadata": {
        "id": "8KsihR1EfjIY"
      },
      "outputs": [],
      "source": [
        "location = []\n",
        "particles = initialize_particles()\n",
        "\n",
        "\n",
        "for frame in get_frames(VFILENAME):\n",
        "    if frame is None: break\n",
        "    particles = apply_velocity(particles)\n",
        "    particles = enforce_edges(particles)\n",
        "    terminate = display(frame, particles, location,NUM_PARTICLES)\n",
        "    if terminate:\n",
        "        break\n",
        "\n",
        "cv2.destroyAllWindows()  "
      ]
    },
    {
      "attachments": {},
      "cell_type": "markdown",
      "metadata": {
        "id": "ChsNZxDGfqEs"
      },
      "source": [
        "### **Measure the quality of the particle**"
      ]
    },
    {
      "attachments": {},
      "cell_type": "markdown",
      "metadata": {
        "id": "3w_d6uOAfv3-"
      },
      "source": [
        "Let's suppose we want to track the elbow of the person, so we have to check that the color of the pixel sitting under each particle and compare it with the target color. \n",
        "\n",
        "To do this, we are going to create an array of zeros to store the color differences calling it **errors**. So we iterate over all the particles and we calculate each color difference. The error is calculated as the mean square difference between the two colors.\n"
      ]
    },
    {
      "cell_type": "code",
      "execution_count": null,
      "metadata": {
        "id": "TsUkqBsYhA0z"
      },
      "outputs": [],
      "source": [
        "TARGET_COLOR = np.array((66,63, 105))\n",
        "\n",
        "def compute_errors(particles, frame):\n",
        "    \n",
        "    errors = np.zeros(NUM_PARTICLES)\n",
        "    for i in range(NUM_PARTICLES):\n",
        "        x = int(particles[i,0])\n",
        "        y= int(particles[i,1])\n",
        "        pixel_color = frame[y, x, :]\n",
        "        errors[i] = np.sum((TARGET_COLOR - pixel_color)**2)\n",
        "    \n",
        "    return errors"
      ]
    },
    {
      "attachments": {},
      "cell_type": "markdown",
      "metadata": {
        "id": "vOTsiRJwhFCD"
      },
      "source": [
        "### **Assign Weights**"
      ]
    },
    {
      "attachments": {},
      "cell_type": "markdown",
      "metadata": {
        "id": "8p-siKnFhHtH"
      },
      "source": [
        "The error is used to compute a weight for each particle. When the error is low, we want the weight to be height. This means that a particle is at location where the pixel color is a good match for the target. \n",
        "\n",
        "To do this, we are going to the take the highest error and the subtract off the errors array. Futhermore, we want to prevent the particles from piling up along the edge. So the particle on the edge must have a weight equal to zero."
      ]
    },
    {
      "cell_type": "code",
      "execution_count": null,
      "metadata": {
        "id": "Z_Ym2ZXviMwX"
      },
      "outputs": [],
      "source": [
        "def compute_weights(errors):\n",
        "    weights = np.max(errors) - errors\n",
        "    \n",
        "    weights[\n",
        "        (particles[:,0]==0) |\n",
        "        (particles[:,0]==frame_width-1) |\n",
        "        (particles[:,1]==0) |\n",
        "        (particles[:,1]==frame_height-1) ] = 0  \n",
        "        \n",
        "    return weights"
      ]
    },
    {
      "attachments": {},
      "cell_type": "markdown",
      "metadata": {
        "id": "ZompYFABiWKN"
      },
      "source": [
        "### **Resample the weights**"
      ]
    },
    {
      "attachments": {},
      "cell_type": "markdown",
      "metadata": {
        "id": "-d7HaZ_GiZdc"
      },
      "source": [
        "If we normalize the weights so that they sum to one, we can use them as a probability distribution over the particles. So, we are going to build another particle array by sampling from the current particles. The ones with high weight will get chosen many times, the ones with low weight may not be chosen at all. To do this, we are going to use the numpy function **choice**:\n",
        "\n",
        "\n",
        "*   The first argument is the sampling range (NUM_PARTICLES)\n",
        "*   The second argument is how many samples we have to take (we need as many sample as we have particles)\n",
        "*   The third argument is the probability distribution\n",
        "\n"
      ]
    },
    {
      "cell_type": "code",
      "execution_count": null,
      "metadata": {
        "id": "lJFmwP6pj4sT"
      },
      "outputs": [],
      "source": [
        "def resample(particles, weights,NUM_PARTICLES):\n",
        "    probabilities = weights / np.sum(weights)\n",
        "    index_numbers = np.random.choice(\n",
        "        NUM_PARTICLES,\n",
        "        size=NUM_PARTICLES,\n",
        "        p=probabilities)\n",
        "    particles = particles[index_numbers, :]\n",
        "    \n",
        "    x = np.mean(particles[:,0])\n",
        "    y = np.mean(particles[:,1])\n",
        "    \n",
        "    return particles, [int(x), int(y)]"
      ]
    },
    {
      "attachments": {},
      "cell_type": "markdown",
      "metadata": {
        "id": "DIIInyDcj_vo"
      },
      "source": [
        "The best guess is the mean over the new particles array"
      ]
    },
    {
      "cell_type": "code",
      "execution_count": null,
      "metadata": {
        "id": "rd8WXTjLkX34"
      },
      "outputs": [],
      "source": [
        "particles = initialize_particles(NUM_PARTICLES,frame_width,frame_height,VEL_RANGE)\n",
        "\n",
        "\n",
        "for frame in get_frames(VFILENAME):\n",
        "    if frame is None: break\n",
        "    particles = apply_velocity(particles)\n",
        "    particles = enforce_edges(particles)\n",
        "    errors = compute_errors(particles, frame)\n",
        "    weights = compute_weights(errors)\n",
        "    particles, location = resample(particles, weights,NUM_PARTICLES)\n",
        "\n",
        "    terminate = display(frame, particles, location,NUM_PARTICLES)\n",
        "    if terminate:\n",
        "        break\n",
        "\n",
        "cv2.destroyAllWindows()"
      ]
    },
    {
      "attachments": {},
      "cell_type": "markdown",
      "metadata": {
        "id": "9dtHiw-ylA9E"
      },
      "source": [
        "However it wasn't quite a pixel on the target. We need to locate the target and keep tracking the target, even if it moves around the frame or the lighting conditions change. The solution for this is to just add some noise. "
      ]
    },
    {
      "cell_type": "code",
      "execution_count": null,
      "metadata": {
        "id": "Atx0sRKEoNIZ"
      },
      "outputs": [],
      "source": [
        "POS_SIGMA = 0.75 # standard deviation on position\n",
        "VEL_SIGMA = 0.1 # standard deviation on velocity\n",
        "\n",
        "def apply_noise(particles,POS_SIGMA,VEL_SIGMA,NUM_PARTICLES):\n",
        "    noise= np.concatenate(\n",
        "    (\n",
        "        np.random.normal(0.0, POS_SIGMA, (NUM_PARTICLES,1)),\n",
        "        np.random.normal(0.0, POS_SIGMA, (NUM_PARTICLES,1)),\n",
        "        np.random.normal(0.0, VEL_SIGMA, (NUM_PARTICLES,1)),\n",
        "        np.random.normal(0.0, VEL_SIGMA, (NUM_PARTICLES,1))\n",
        "    \n",
        "    ),\n",
        "    axis=1)\n",
        "    \n",
        "    particles += noise\n",
        "    return particles"
      ]
    },
    {
      "cell_type": "code",
      "execution_count": null,
      "metadata": {
        "id": "wjHl8Gm2opEV"
      },
      "outputs": [],
      "source": [
        "particles = initialize_particles(NUM_PARTICLES,frame_width,frame_height,VEL_RANGE)\n",
        "\n",
        "\n",
        "for frame in get_frames(VFILENAME):\n",
        "    if frame is None: break\n",
        "    particles = apply_velocity(particles)\n",
        "    particles = enforce_edges(particles)\n",
        "    errors = compute_errors(particles, frame)\n",
        "    weights = compute_weights(errors)\n",
        "    particles, location = resample(particles, weights,NUM_PARTICLES)\n",
        "    particles = apply_noise(particles,POS_SIGMA,VEL_SIGMA,NUM_PARTICLES)\n",
        "\n",
        "    terminate = display(frame, particles, location,NUM_PARTICLES)\n",
        "    if terminate:\n",
        "        break\n",
        "\n",
        "cv2.destroyAllWindows()"
      ]
    },
    {
      "attachments": {},
      "cell_type": "markdown",
      "metadata": {
        "id": "n9pzF_-vo3Xt"
      },
      "source": [
        "From the result. It looks like the particle cloud is distributed along different subject and not drawn in the target. So we have to make the weights more sensitive to color differences. One possible solution is to square the weights."
      ]
    },
    {
      "cell_type": "code",
      "execution_count": null,
      "metadata": {
        "id": "tXCwOLA7pZ2Z"
      },
      "outputs": [],
      "source": [
        "def compute_weights(errors):\n",
        "    weights = np.max(errors) - errors\n",
        "    \n",
        "    weights[\n",
        "        (particles[:,0]==0) |\n",
        "        (particles[:,0]==frame_width-1) |\n",
        "        (particles[:,1]==0) |\n",
        "        (particles[:,1]==frame_height-1) ] = 0  \n",
        "\n",
        "    weights = weights**2\n",
        "        \n",
        "    return weights"
      ]
    },
    {
      "cell_type": "code",
      "execution_count": null,
      "metadata": {
        "id": "BiD2Djw3ptRk"
      },
      "outputs": [],
      "source": [
        "particles = initialize_particles(NUM_PARTICLES,frame_width,frame_height,VEL_RANGE)\n",
        "\n",
        "\n",
        "for frame in get_frames(VFILENAME):\n",
        "    if frame is None: break\n",
        "    particles = apply_velocity(particles)\n",
        "    particles = enforce_edges(particles)\n",
        "    errors = compute_errors(particles, frame)\n",
        "    weights = compute_weights(errors)\n",
        "    particles, location = resample(particles, weights,NUM_PARTICLES)\n",
        "    particles = apply_noise(particles,POS_SIGMA,VEL_SIGMA,NUM_PARTICLES)\n",
        "\n",
        "    terminate = display(frame, particles, location,NUM_PARTICLES)\n",
        "    if terminate:\n",
        "        break\n",
        "\n",
        "cv2.destroyAllWindows()"
      ]
    },
    {
      "attachments": {},
      "cell_type": "markdown",
      "metadata": {
        "id": "L8RaqJ-VpiN0"
      },
      "source": [
        "Now the particles are more attracted to the t-shirt and the bricks. So let's increase the power of the weights to 8."
      ]
    },
    {
      "cell_type": "code",
      "execution_count": null,
      "metadata": {
        "id": "Hk2RWtvhpwym"
      },
      "outputs": [],
      "source": [
        "def compute_weights(errors):\n",
        "    weights = np.max(errors) - errors\n",
        "    \n",
        "    weights[\n",
        "        (particles[:,0]==0) |\n",
        "        (particles[:,0]==frame_width-1) |\n",
        "        (particles[:,1]==0) |\n",
        "        (particles[:,1]==frame_height-1) ] = 0  \n",
        "\n",
        "    weights = weights**8\n",
        "        \n",
        "    return weights"
      ]
    },
    {
      "cell_type": "code",
      "execution_count": null,
      "metadata": {
        "id": "l-tf5X0bpzAx"
      },
      "outputs": [],
      "source": [
        "particles = initialize_particles(NUM_PARTICLES,frame_width,frame_height,VEL_RANGE)\n",
        "\n",
        "\n",
        "for frame in get_frames(VFILENAME):\n",
        "    if frame is None: break\n",
        "    particles = apply_velocity(particles)\n",
        "    particles = enforce_edges(particles)\n",
        "    errors = compute_errors(particles, frame)\n",
        "    weights = compute_weights(errors)\n",
        "    particles, location = resample(particles, weights,NUM_PARTICLES)\n",
        "    particles = apply_noise(particles,POS_SIGMA,VEL_SIGMA,NUM_PARTICLES)\n",
        "\n",
        "    terminate = display(frame, particles, location,NUM_PARTICLES)\n",
        "    if terminate:\n",
        "        break\n",
        "\n",
        "cv2.destroyAllWindows()"
      ]
    },
    {
      "attachments": {},
      "cell_type": "markdown",
      "metadata": {
        "id": "b-GGEpf2pzov"
      },
      "source": [
        "Now, it is much better, but we have some spreading of particle cloud and it takes long time to go to the target. So, if we raise the power to a higher power, like 16? Try by yourself!"
      ]
    }
  ],
  "metadata": {
    "colab": {
      "provenance": []
    },
    "kernelspec": {
      "display_name": "Python 3",
      "name": "python3"
    },
    "language_info": {
      "name": "python"
    }
  },
  "nbformat": 4,
  "nbformat_minor": 0
}
